{
 "cells": [
  {
   "cell_type": "code",
   "execution_count": 2,
   "metadata": {
    "ExecuteTime": {
     "end_time": "2018-01-30T02:23:18.622309Z",
     "start_time": "2018-01-30T02:23:17.655883Z"
    },
    "collapsed": true
   },
   "outputs": [],
   "source": [
    "import feather\n",
    "import pandas as pd\n",
    "\n",
    "path = './SH600000.feather'\n",
    "df = feather.read_dataframe(path)\n",
    "# feather.write_dataframe(df, output_path)"
   ]
  },
  {
   "cell_type": "code",
   "execution_count": 2,
   "metadata": {
    "ExecuteTime": {
     "end_time": "2018-01-29T12:54:57.414285Z",
     "start_time": "2018-01-29T12:54:57.378353Z"
    }
   },
   "outputs": [
    {
     "data": {
      "text/html": [
       "<div>\n",
       "<style>\n",
       "    .dataframe thead tr:only-child th {\n",
       "        text-align: right;\n",
       "    }\n",
       "\n",
       "    .dataframe thead th {\n",
       "        text-align: left;\n",
       "    }\n",
       "\n",
       "    .dataframe tbody tr th {\n",
       "        vertical-align: top;\n",
       "    }\n",
       "</style>\n",
       "<table border=\"1\" class=\"dataframe\">\n",
       "  <thead>\n",
       "    <tr style=\"text-align: right;\">\n",
       "      <th></th>\n",
       "      <th>date</th>\n",
       "      <th>open</th>\n",
       "      <th>high</th>\n",
       "      <th>low</th>\n",
       "      <th>close</th>\n",
       "      <th>preClose</th>\n",
       "      <th>preClose2</th>\n",
       "      <th>amount</th>\n",
       "      <th>vwap</th>\n",
       "    </tr>\n",
       "  </thead>\n",
       "  <tbody>\n",
       "    <tr>\n",
       "      <th>0</th>\n",
       "      <td>2010-01-04 09:31:00</td>\n",
       "      <td>21.83</td>\n",
       "      <td>21.87</td>\n",
       "      <td>21.83</td>\n",
       "      <td>21.84</td>\n",
       "      <td>21.69</td>\n",
       "      <td>21.69</td>\n",
       "      <td>29328174.0</td>\n",
       "      <td>21.843743</td>\n",
       "    </tr>\n",
       "    <tr>\n",
       "      <th>1</th>\n",
       "      <td>2010-01-04 09:32:00</td>\n",
       "      <td>21.85</td>\n",
       "      <td>21.85</td>\n",
       "      <td>21.80</td>\n",
       "      <td>21.80</td>\n",
       "      <td>21.84</td>\n",
       "      <td>21.69</td>\n",
       "      <td>15051979.0</td>\n",
       "      <td>21.831390</td>\n",
       "    </tr>\n",
       "    <tr>\n",
       "      <th>2</th>\n",
       "      <td>2010-01-04 09:33:00</td>\n",
       "      <td>21.80</td>\n",
       "      <td>21.80</td>\n",
       "      <td>21.70</td>\n",
       "      <td>21.75</td>\n",
       "      <td>21.80</td>\n",
       "      <td>21.69</td>\n",
       "      <td>8075582.0</td>\n",
       "      <td>21.755339</td>\n",
       "    </tr>\n",
       "    <tr>\n",
       "      <th>3</th>\n",
       "      <td>2010-01-04 09:34:00</td>\n",
       "      <td>21.73</td>\n",
       "      <td>21.75</td>\n",
       "      <td>21.72</td>\n",
       "      <td>21.75</td>\n",
       "      <td>21.75</td>\n",
       "      <td>21.69</td>\n",
       "      <td>6140101.0</td>\n",
       "      <td>21.741874</td>\n",
       "    </tr>\n",
       "    <tr>\n",
       "      <th>4</th>\n",
       "      <td>2010-01-04 09:35:00</td>\n",
       "      <td>21.74</td>\n",
       "      <td>21.76</td>\n",
       "      <td>21.73</td>\n",
       "      <td>21.76</td>\n",
       "      <td>21.75</td>\n",
       "      <td>21.69</td>\n",
       "      <td>6250674.0</td>\n",
       "      <td>21.756610</td>\n",
       "    </tr>\n",
       "  </tbody>\n",
       "</table>\n",
       "</div>"
      ],
      "text/plain": [
       "                  date   open   high    low  close  preClose  preClose2  \\\n",
       "0  2010-01-04 09:31:00  21.83  21.87  21.83  21.84     21.69      21.69   \n",
       "1  2010-01-04 09:32:00  21.85  21.85  21.80  21.80     21.84      21.69   \n",
       "2  2010-01-04 09:33:00  21.80  21.80  21.70  21.75     21.80      21.69   \n",
       "3  2010-01-04 09:34:00  21.73  21.75  21.72  21.75     21.75      21.69   \n",
       "4  2010-01-04 09:35:00  21.74  21.76  21.73  21.76     21.75      21.69   \n",
       "\n",
       "       amount       vwap  \n",
       "0  29328174.0  21.843743  \n",
       "1  15051979.0  21.831390  \n",
       "2   8075582.0  21.755339  \n",
       "3   6140101.0  21.741874  \n",
       "4   6250674.0  21.756610  "
      ]
     },
     "execution_count": 2,
     "metadata": {},
     "output_type": "execute_result"
    }
   ],
   "source": [
    "df.head()"
   ]
  },
  {
   "cell_type": "code",
   "execution_count": 8,
   "metadata": {
    "ExecuteTime": {
     "end_time": "2018-01-26T10:55:39.327013Z",
     "start_time": "2018-01-26T10:55:39.299678Z"
    }
   },
   "outputs": [
    {
     "data": {
      "text/html": [
       "<div>\n",
       "<style>\n",
       "    .dataframe thead tr:only-child th {\n",
       "        text-align: right;\n",
       "    }\n",
       "\n",
       "    .dataframe thead th {\n",
       "        text-align: left;\n",
       "    }\n",
       "\n",
       "    .dataframe tbody tr th {\n",
       "        vertical-align: top;\n",
       "    }\n",
       "</style>\n",
       "<table border=\"1\" class=\"dataframe\">\n",
       "  <thead>\n",
       "    <tr style=\"text-align: right;\">\n",
       "      <th></th>\n",
       "      <th>date</th>\n",
       "      <th>open</th>\n",
       "      <th>high</th>\n",
       "      <th>low</th>\n",
       "      <th>close</th>\n",
       "      <th>preClose</th>\n",
       "      <th>preClose2</th>\n",
       "      <th>amount</th>\n",
       "      <th>vwap</th>\n",
       "    </tr>\n",
       "  </thead>\n",
       "  <tbody>\n",
       "    <tr>\n",
       "      <th>468475</th>\n",
       "      <td>2018-01-15 14:56:00</td>\n",
       "      <td>13.02</td>\n",
       "      <td>13.02</td>\n",
       "      <td>13.00</td>\n",
       "      <td>13.02</td>\n",
       "      <td>13.01</td>\n",
       "      <td>12.91</td>\n",
       "      <td>6556338.0</td>\n",
       "      <td>13.011886</td>\n",
       "    </tr>\n",
       "    <tr>\n",
       "      <th>468476</th>\n",
       "      <td>2018-01-15 14:57:00</td>\n",
       "      <td>13.01</td>\n",
       "      <td>13.02</td>\n",
       "      <td>13.01</td>\n",
       "      <td>13.02</td>\n",
       "      <td>13.02</td>\n",
       "      <td>12.91</td>\n",
       "      <td>2510625.0</td>\n",
       "      <td>13.017525</td>\n",
       "    </tr>\n",
       "    <tr>\n",
       "      <th>468477</th>\n",
       "      <td>2018-01-15 14:58:00</td>\n",
       "      <td>13.01</td>\n",
       "      <td>13.02</td>\n",
       "      <td>13.01</td>\n",
       "      <td>13.02</td>\n",
       "      <td>13.02</td>\n",
       "      <td>12.91</td>\n",
       "      <td>2121618.0</td>\n",
       "      <td>13.012070</td>\n",
       "    </tr>\n",
       "    <tr>\n",
       "      <th>468478</th>\n",
       "      <td>2018-01-15 14:59:00</td>\n",
       "      <td>13.02</td>\n",
       "      <td>13.02</td>\n",
       "      <td>13.00</td>\n",
       "      <td>13.00</td>\n",
       "      <td>13.02</td>\n",
       "      <td>12.91</td>\n",
       "      <td>4778787.0</td>\n",
       "      <td>13.001556</td>\n",
       "    </tr>\n",
       "    <tr>\n",
       "      <th>468479</th>\n",
       "      <td>2018-01-15 15:00:00</td>\n",
       "      <td>13.01</td>\n",
       "      <td>13.02</td>\n",
       "      <td>13.01</td>\n",
       "      <td>13.02</td>\n",
       "      <td>13.00</td>\n",
       "      <td>12.91</td>\n",
       "      <td>5494709.0</td>\n",
       "      <td>13.016165</td>\n",
       "    </tr>\n",
       "  </tbody>\n",
       "</table>\n",
       "</div>"
      ],
      "text/plain": [
       "                       date   open   high    low  close  preClose  preClose2  \\\n",
       "468475  2018-01-15 14:56:00  13.02  13.02  13.00  13.02     13.01      12.91   \n",
       "468476  2018-01-15 14:57:00  13.01  13.02  13.01  13.02     13.02      12.91   \n",
       "468477  2018-01-15 14:58:00  13.01  13.02  13.01  13.02     13.02      12.91   \n",
       "468478  2018-01-15 14:59:00  13.02  13.02  13.00  13.00     13.02      12.91   \n",
       "468479  2018-01-15 15:00:00  13.01  13.02  13.01  13.02     13.00      12.91   \n",
       "\n",
       "           amount       vwap  \n",
       "468475  6556338.0  13.011886  \n",
       "468476  2510625.0  13.017525  \n",
       "468477  2121618.0  13.012070  \n",
       "468478  4778787.0  13.001556  \n",
       "468479  5494709.0  13.016165  "
      ]
     },
     "execution_count": 8,
     "metadata": {},
     "output_type": "execute_result"
    }
   ],
   "source": [
    "df.tail()"
   ]
  },
  {
   "cell_type": "code",
   "execution_count": 7,
   "metadata": {
    "ExecuteTime": {
     "end_time": "2018-01-26T10:55:14.000205Z",
     "start_time": "2018-01-26T10:55:13.851648Z"
    }
   },
   "outputs": [
    {
     "name": "stdout",
     "output_type": "stream",
     "text": [
      "(468480, 9)\n"
     ]
    }
   ],
   "source": [
    "data = df.values\n",
    "print data.shape"
   ]
  },
  {
   "cell_type": "code",
   "execution_count": 6,
   "metadata": {
    "ExecuteTime": {
     "end_time": "2018-01-26T15:50:47.629508Z",
     "start_time": "2018-01-26T15:50:47.607902Z"
    }
   },
   "outputs": [
    {
     "data": {
      "text/plain": [
       "date          object\n",
       "open         float64\n",
       "high         float64\n",
       "low          float64\n",
       "close        float64\n",
       "preClose     float64\n",
       "preClose2    float64\n",
       "amount       float64\n",
       "vwap         float64\n",
       "dtype: object"
      ]
     },
     "execution_count": 6,
     "metadata": {},
     "output_type": "execute_result"
    }
   ],
   "source": [
    "data.dtypes"
   ]
  },
  {
   "cell_type": "code",
   "execution_count": 27,
   "metadata": {
    "ExecuteTime": {
     "end_time": "2018-01-26T16:02:12.900693Z",
     "start_time": "2018-01-26T16:02:12.876413Z"
    }
   },
   "outputs": [
    {
     "data": {
      "text/html": [
       "<div>\n",
       "<style>\n",
       "    .dataframe thead tr:only-child th {\n",
       "        text-align: right;\n",
       "    }\n",
       "\n",
       "    .dataframe thead th {\n",
       "        text-align: left;\n",
       "    }\n",
       "\n",
       "    .dataframe tbody tr th {\n",
       "        vertical-align: top;\n",
       "    }\n",
       "</style>\n",
       "<table border=\"1\" class=\"dataframe\">\n",
       "  <thead>\n",
       "    <tr style=\"text-align: right;\">\n",
       "      <th></th>\n",
       "      <th>date</th>\n",
       "      <th>open</th>\n",
       "      <th>high</th>\n",
       "      <th>low</th>\n",
       "      <th>close</th>\n",
       "      <th>preClose</th>\n",
       "      <th>preClose2</th>\n",
       "      <th>amount</th>\n",
       "      <th>vwap</th>\n",
       "    </tr>\n",
       "  </thead>\n",
       "  <tbody>\n",
       "    <tr>\n",
       "      <th>286</th>\n",
       "      <td>2010-01-05 10:17:00</td>\n",
       "      <td>20.88</td>\n",
       "      <td>20.90</td>\n",
       "      <td>20.88</td>\n",
       "      <td>20.90</td>\n",
       "      <td>20.89</td>\n",
       "      <td>21.19</td>\n",
       "      <td>12196497.0</td>\n",
       "      <td>20.891567</td>\n",
       "    </tr>\n",
       "    <tr>\n",
       "      <th>287</th>\n",
       "      <td>2010-01-05 10:18:00</td>\n",
       "      <td>20.90</td>\n",
       "      <td>20.92</td>\n",
       "      <td>20.89</td>\n",
       "      <td>20.92</td>\n",
       "      <td>20.90</td>\n",
       "      <td>21.19</td>\n",
       "      <td>7914525.0</td>\n",
       "      <td>20.898422</td>\n",
       "    </tr>\n",
       "    <tr>\n",
       "      <th>288</th>\n",
       "      <td>2010-01-05 10:19:00</td>\n",
       "      <td>20.92</td>\n",
       "      <td>20.92</td>\n",
       "      <td>20.88</td>\n",
       "      <td>20.90</td>\n",
       "      <td>20.92</td>\n",
       "      <td>21.19</td>\n",
       "      <td>13759798.0</td>\n",
       "      <td>20.896113</td>\n",
       "    </tr>\n",
       "  </tbody>\n",
       "</table>\n",
       "</div>"
      ],
      "text/plain": [
       "                    date   open   high    low  close  preClose  preClose2  \\\n",
       "286  2010-01-05 10:17:00  20.88  20.90  20.88  20.90     20.89      21.19   \n",
       "287  2010-01-05 10:18:00  20.90  20.92  20.89  20.92     20.90      21.19   \n",
       "288  2010-01-05 10:19:00  20.92  20.92  20.88  20.90     20.92      21.19   \n",
       "\n",
       "         amount       vwap  \n",
       "286  12196497.0  20.891567  \n",
       "287   7914525.0  20.898422  \n",
       "288  13759798.0  20.896113  "
      ]
     },
     "execution_count": 27,
     "metadata": {},
     "output_type": "execute_result"
    }
   ],
   "source": [
    "data.loc[(data['date']>'2010-01-05 10:16:00')\n",
    "         & (data['date']<'2010-01-05 10:20:00')]"
   ]
  },
  {
   "cell_type": "markdown",
   "metadata": {
    "ExecuteTime": {
     "end_time": "2018-01-26T16:00:55.166776Z",
     "start_time": "2018-01-26T16:00:55.148416Z"
    }
   },
   "source": [
    "### “聪明”程度\n",
    "S_t = |R_t|/sqrt(V_t)\n",
    "其中，R_t为第t分钟的涨跌幅，V_t为第t分钟的成交量。指标S_t的值越大，则表示该分钟的交易越“聪明“"
   ]
  },
  {
   "cell_type": "code",
   "execution_count": 10,
   "metadata": {
    "ExecuteTime": {
     "end_time": "2018-01-30T02:24:43.360681Z",
     "start_time": "2018-01-30T02:24:43.195175Z"
    }
   },
   "outputs": [
    {
     "name": "stdout",
     "output_type": "stream",
     "text": [
      "(30, 9)\n"
     ]
    }
   ],
   "source": [
    "start_date = \"2016-09-30 14:30\"\n",
    "end_date = \"2016-09-30 15:00\"\n",
    "data = df\n",
    "valid_data = data.loc[(data['date']>start_date)\n",
    "         & (data['date']<=end_date)]\n",
    "print valid_data.shape\n",
    "# filtering those data with nan or null\n",
    "valid_data_filter = valid_data.dropna(how='any')"
   ]
  },
  {
   "cell_type": "code",
   "execution_count": 11,
   "metadata": {
    "ExecuteTime": {
     "end_time": "2018-01-30T02:24:46.428328Z",
     "start_time": "2018-01-30T02:24:46.422285Z"
    }
   },
   "outputs": [
    {
     "name": "stdout",
     "output_type": "stream",
     "text": [
      "there is not nan data.\n"
     ]
    }
   ],
   "source": [
    "# show whether there is a nan data.\n",
    "na_data = pd.isna(valid_data)\n",
    "na_ids = np.where(na_data.values == True)\n",
    "if len(na_ids[0]) != 0:\n",
    "    valid_data.iloc[na_ids[0][0]]\n",
    "else:\n",
    "    print \"there is not nan data.\""
   ]
  },
  {
   "cell_type": "code",
   "execution_count": 12,
   "metadata": {
    "ExecuteTime": {
     "end_time": "2018-01-30T02:24:48.553299Z",
     "start_time": "2018-01-30T02:24:48.546942Z"
    }
   },
   "outputs": [
    {
     "name": "stdout",
     "output_type": "stream",
     "text": [
      "(30,)\n"
     ]
    }
   ],
   "source": [
    "# R_t = abs(close-preClose2)/preClose2*100%\n",
    "# V_t = amount\n",
    "import numpy as np\n",
    "R_elem1 = 'close'\n",
    "R_elem2 = 'preClose2'\n",
    "V_elem = 'amount'\n",
    "R = abs(valid_data_filter[R_elem1]-valid_data_filter[R_elem2])/(valid_data_filter[R_elem2]+np.finfo(float).eps)*100\n",
    "S = R/(np.sqrt(valid_data_filter[V_elem])+np.finfo(float).eps)\n",
    "print S.shape"
   ]
  },
  {
   "cell_type": "code",
   "execution_count": 13,
   "metadata": {
    "ExecuteTime": {
     "end_time": "2018-01-30T02:24:51.348233Z",
     "start_time": "2018-01-30T02:24:51.345351Z"
    }
   },
   "outputs": [],
   "source": [
    "S_sort_ids = np.argsort(S.values)\n",
    "S_arr = S.values[S_sort_ids[::-1]]"
   ]
  },
  {
   "cell_type": "code",
   "execution_count": 15,
   "metadata": {
    "ExecuteTime": {
     "end_time": "2018-01-30T02:24:57.251595Z",
     "start_time": "2018-01-30T02:24:57.246872Z"
    }
   },
   "outputs": [
    {
     "name": "stdout",
     "output_type": "stream",
     "text": [
      "min: 0.0\n",
      "max: 8.21577163204e-05\n"
     ]
    }
   ],
   "source": [
    "# check the max, min value in S_t\n",
    "print 'min:', np.min(S.values)\n",
    "print 'max:', np.max(S.values)"
   ]
  },
  {
   "cell_type": "code",
   "execution_count": 21,
   "metadata": {
    "ExecuteTime": {
     "end_time": "2018-01-30T02:31:36.783602Z",
     "start_time": "2018-01-30T02:31:36.726270Z"
    }
   },
   "outputs": [
    {
     "data": {
      "text/html": [
       "<div>\n",
       "<style scoped>\n",
       "    .dataframe tbody tr th:only-of-type {\n",
       "        vertical-align: middle;\n",
       "    }\n",
       "\n",
       "    .dataframe tbody tr th {\n",
       "        vertical-align: top;\n",
       "    }\n",
       "\n",
       "    .dataframe thead th {\n",
       "        text-align: right;\n",
       "    }\n",
       "</style>\n",
       "<table border=\"1\" class=\"dataframe\">\n",
       "  <thead>\n",
       "    <tr style=\"text-align: right;\">\n",
       "      <th></th>\n",
       "      <th>date</th>\n",
       "      <th>open</th>\n",
       "      <th>high</th>\n",
       "      <th>low</th>\n",
       "      <th>close</th>\n",
       "      <th>preClose</th>\n",
       "      <th>preClose2</th>\n",
       "      <th>amount</th>\n",
       "      <th>vwap</th>\n",
       "    </tr>\n",
       "  </thead>\n",
       "  <tbody>\n",
       "    <tr>\n",
       "      <th>393590</th>\n",
       "      <td>2016-09-30 14:51:00</td>\n",
       "      <td>16.49</td>\n",
       "      <td>16.49</td>\n",
       "      <td>16.49</td>\n",
       "      <td>16.49</td>\n",
       "      <td>16.49</td>\n",
       "      <td>16.5</td>\n",
       "      <td>544171.0</td>\n",
       "      <td>16.490030</td>\n",
       "    </tr>\n",
       "    <tr>\n",
       "      <th>393597</th>\n",
       "      <td>2016-09-30 14:58:00</td>\n",
       "      <td>16.51</td>\n",
       "      <td>16.51</td>\n",
       "      <td>16.50</td>\n",
       "      <td>16.51</td>\n",
       "      <td>16.51</td>\n",
       "      <td>16.5</td>\n",
       "      <td>650030.0</td>\n",
       "      <td>16.502412</td>\n",
       "    </tr>\n",
       "    <tr>\n",
       "      <th>393591</th>\n",
       "      <td>2016-09-30 14:52:00</td>\n",
       "      <td>16.49</td>\n",
       "      <td>16.50</td>\n",
       "      <td>16.49</td>\n",
       "      <td>16.49</td>\n",
       "      <td>16.49</td>\n",
       "      <td>16.5</td>\n",
       "      <td>712406.0</td>\n",
       "      <td>16.490880</td>\n",
       "    </tr>\n",
       "    <tr>\n",
       "      <th>393592</th>\n",
       "      <td>2016-09-30 14:53:00</td>\n",
       "      <td>16.49</td>\n",
       "      <td>16.50</td>\n",
       "      <td>16.49</td>\n",
       "      <td>16.49</td>\n",
       "      <td>16.49</td>\n",
       "      <td>16.5</td>\n",
       "      <td>907109.0</td>\n",
       "      <td>16.492891</td>\n",
       "    </tr>\n",
       "    <tr>\n",
       "      <th>393572</th>\n",
       "      <td>2016-09-30 14:33:00</td>\n",
       "      <td>16.50</td>\n",
       "      <td>16.50</td>\n",
       "      <td>16.49</td>\n",
       "      <td>16.49</td>\n",
       "      <td>16.50</td>\n",
       "      <td>16.5</td>\n",
       "      <td>1182001.0</td>\n",
       "      <td>16.492270</td>\n",
       "    </tr>\n",
       "    <tr>\n",
       "      <th>393589</th>\n",
       "      <td>2016-09-30 14:50:00</td>\n",
       "      <td>16.50</td>\n",
       "      <td>16.50</td>\n",
       "      <td>16.49</td>\n",
       "      <td>16.49</td>\n",
       "      <td>16.50</td>\n",
       "      <td>16.5</td>\n",
       "      <td>1183431.0</td>\n",
       "      <td>16.493812</td>\n",
       "    </tr>\n",
       "    <tr>\n",
       "      <th>393577</th>\n",
       "      <td>2016-09-30 14:38:00</td>\n",
       "      <td>16.50</td>\n",
       "      <td>16.50</td>\n",
       "      <td>16.49</td>\n",
       "      <td>16.49</td>\n",
       "      <td>16.50</td>\n",
       "      <td>16.5</td>\n",
       "      <td>1193983.0</td>\n",
       "      <td>16.491478</td>\n",
       "    </tr>\n",
       "    <tr>\n",
       "      <th>393574</th>\n",
       "      <td>2016-09-30 14:35:00</td>\n",
       "      <td>16.50</td>\n",
       "      <td>16.50</td>\n",
       "      <td>16.49</td>\n",
       "      <td>16.49</td>\n",
       "      <td>16.50</td>\n",
       "      <td>16.5</td>\n",
       "      <td>1838911.0</td>\n",
       "      <td>16.490996</td>\n",
       "    </tr>\n",
       "    <tr>\n",
       "      <th>393584</th>\n",
       "      <td>2016-09-30 14:45:00</td>\n",
       "      <td>16.51</td>\n",
       "      <td>16.51</td>\n",
       "      <td>16.49</td>\n",
       "      <td>16.51</td>\n",
       "      <td>16.51</td>\n",
       "      <td>16.5</td>\n",
       "      <td>2014226.0</td>\n",
       "      <td>16.492475</td>\n",
       "    </tr>\n",
       "    <tr>\n",
       "      <th>393596</th>\n",
       "      <td>2016-09-30 14:57:00</td>\n",
       "      <td>16.50</td>\n",
       "      <td>16.51</td>\n",
       "      <td>16.50</td>\n",
       "      <td>16.51</td>\n",
       "      <td>16.51</td>\n",
       "      <td>16.5</td>\n",
       "      <td>2069134.0</td>\n",
       "      <td>16.500271</td>\n",
       "    </tr>\n",
       "    <tr>\n",
       "      <th>393581</th>\n",
       "      <td>2016-09-30 14:42:00</td>\n",
       "      <td>16.49</td>\n",
       "      <td>16.50</td>\n",
       "      <td>16.49</td>\n",
       "      <td>16.49</td>\n",
       "      <td>16.50</td>\n",
       "      <td>16.5</td>\n",
       "      <td>2257779.0</td>\n",
       "      <td>16.492177</td>\n",
       "    </tr>\n",
       "    <tr>\n",
       "      <th>393595</th>\n",
       "      <td>2016-09-30 14:56:00</td>\n",
       "      <td>16.50</td>\n",
       "      <td>16.51</td>\n",
       "      <td>16.49</td>\n",
       "      <td>16.51</td>\n",
       "      <td>16.49</td>\n",
       "      <td>16.5</td>\n",
       "      <td>2852149.0</td>\n",
       "      <td>16.499572</td>\n",
       "    </tr>\n",
       "    <tr>\n",
       "      <th>393594</th>\n",
       "      <td>2016-09-30 14:55:00</td>\n",
       "      <td>16.50</td>\n",
       "      <td>16.50</td>\n",
       "      <td>16.49</td>\n",
       "      <td>16.49</td>\n",
       "      <td>16.50</td>\n",
       "      <td>16.5</td>\n",
       "      <td>4382249.0</td>\n",
       "      <td>16.499431</td>\n",
       "    </tr>\n",
       "    <tr>\n",
       "      <th>393582</th>\n",
       "      <td>2016-09-30 14:43:00</td>\n",
       "      <td>16.50</td>\n",
       "      <td>16.50</td>\n",
       "      <td>16.49</td>\n",
       "      <td>16.49</td>\n",
       "      <td>16.49</td>\n",
       "      <td>16.5</td>\n",
       "      <td>5888398.0</td>\n",
       "      <td>16.496422</td>\n",
       "    </tr>\n",
       "    <tr>\n",
       "      <th>393583</th>\n",
       "      <td>2016-09-30 14:44:00</td>\n",
       "      <td>16.49</td>\n",
       "      <td>16.51</td>\n",
       "      <td>16.49</td>\n",
       "      <td>16.51</td>\n",
       "      <td>16.49</td>\n",
       "      <td>16.5</td>\n",
       "      <td>5981043.0</td>\n",
       "      <td>16.499429</td>\n",
       "    </tr>\n",
       "    <tr>\n",
       "      <th>393575</th>\n",
       "      <td>2016-09-30 14:36:00</td>\n",
       "      <td>16.50</td>\n",
       "      <td>16.50</td>\n",
       "      <td>16.49</td>\n",
       "      <td>16.50</td>\n",
       "      <td>16.49</td>\n",
       "      <td>16.5</td>\n",
       "      <td>1378694.0</td>\n",
       "      <td>16.491555</td>\n",
       "    </tr>\n",
       "    <tr>\n",
       "      <th>393571</th>\n",
       "      <td>2016-09-30 14:32:00</td>\n",
       "      <td>16.50</td>\n",
       "      <td>16.50</td>\n",
       "      <td>16.49</td>\n",
       "      <td>16.50</td>\n",
       "      <td>16.50</td>\n",
       "      <td>16.5</td>\n",
       "      <td>872755.0</td>\n",
       "      <td>16.492592</td>\n",
       "    </tr>\n",
       "    <tr>\n",
       "      <th>393573</th>\n",
       "      <td>2016-09-30 14:34:00</td>\n",
       "      <td>16.50</td>\n",
       "      <td>16.50</td>\n",
       "      <td>16.49</td>\n",
       "      <td>16.50</td>\n",
       "      <td>16.49</td>\n",
       "      <td>16.5</td>\n",
       "      <td>2402686.0</td>\n",
       "      <td>16.490638</td>\n",
       "    </tr>\n",
       "    <tr>\n",
       "      <th>393570</th>\n",
       "      <td>2016-09-30 14:31:00</td>\n",
       "      <td>16.50</td>\n",
       "      <td>16.50</td>\n",
       "      <td>16.49</td>\n",
       "      <td>16.50</td>\n",
       "      <td>16.50</td>\n",
       "      <td>16.5</td>\n",
       "      <td>842833.0</td>\n",
       "      <td>16.493796</td>\n",
       "    </tr>\n",
       "    <tr>\n",
       "      <th>393576</th>\n",
       "      <td>2016-09-30 14:37:00</td>\n",
       "      <td>16.49</td>\n",
       "      <td>16.50</td>\n",
       "      <td>16.49</td>\n",
       "      <td>16.50</td>\n",
       "      <td>16.50</td>\n",
       "      <td>16.5</td>\n",
       "      <td>1530389.0</td>\n",
       "      <td>16.491261</td>\n",
       "    </tr>\n",
       "    <tr>\n",
       "      <th>393598</th>\n",
       "      <td>2016-09-30 14:59:00</td>\n",
       "      <td>16.50</td>\n",
       "      <td>16.50</td>\n",
       "      <td>16.49</td>\n",
       "      <td>16.50</td>\n",
       "      <td>16.51</td>\n",
       "      <td>16.5</td>\n",
       "      <td>1694413.0</td>\n",
       "      <td>16.498666</td>\n",
       "    </tr>\n",
       "    <tr>\n",
       "      <th>393578</th>\n",
       "      <td>2016-09-30 14:39:00</td>\n",
       "      <td>16.50</td>\n",
       "      <td>16.50</td>\n",
       "      <td>16.49</td>\n",
       "      <td>16.50</td>\n",
       "      <td>16.49</td>\n",
       "      <td>16.5</td>\n",
       "      <td>2589992.0</td>\n",
       "      <td>16.496764</td>\n",
       "    </tr>\n",
       "    <tr>\n",
       "      <th>393579</th>\n",
       "      <td>2016-09-30 14:40:00</td>\n",
       "      <td>16.50</td>\n",
       "      <td>16.50</td>\n",
       "      <td>16.49</td>\n",
       "      <td>16.50</td>\n",
       "      <td>16.50</td>\n",
       "      <td>16.5</td>\n",
       "      <td>443716.0</td>\n",
       "      <td>16.495019</td>\n",
       "    </tr>\n",
       "    <tr>\n",
       "      <th>393580</th>\n",
       "      <td>2016-09-30 14:41:00</td>\n",
       "      <td>16.49</td>\n",
       "      <td>16.50</td>\n",
       "      <td>16.49</td>\n",
       "      <td>16.50</td>\n",
       "      <td>16.50</td>\n",
       "      <td>16.5</td>\n",
       "      <td>1235391.0</td>\n",
       "      <td>16.493872</td>\n",
       "    </tr>\n",
       "    <tr>\n",
       "      <th>393585</th>\n",
       "      <td>2016-09-30 14:46:00</td>\n",
       "      <td>16.50</td>\n",
       "      <td>16.50</td>\n",
       "      <td>16.49</td>\n",
       "      <td>16.50</td>\n",
       "      <td>16.51</td>\n",
       "      <td>16.5</td>\n",
       "      <td>905462.0</td>\n",
       "      <td>16.492933</td>\n",
       "    </tr>\n",
       "    <tr>\n",
       "      <th>393586</th>\n",
       "      <td>2016-09-30 14:47:00</td>\n",
       "      <td>16.49</td>\n",
       "      <td>16.51</td>\n",
       "      <td>16.49</td>\n",
       "      <td>16.50</td>\n",
       "      <td>16.50</td>\n",
       "      <td>16.5</td>\n",
       "      <td>1475095.0</td>\n",
       "      <td>16.499944</td>\n",
       "    </tr>\n",
       "    <tr>\n",
       "      <th>393587</th>\n",
       "      <td>2016-09-30 14:48:00</td>\n",
       "      <td>16.49</td>\n",
       "      <td>16.51</td>\n",
       "      <td>16.49</td>\n",
       "      <td>16.50</td>\n",
       "      <td>16.50</td>\n",
       "      <td>16.5</td>\n",
       "      <td>1795927.0</td>\n",
       "      <td>16.499100</td>\n",
       "    </tr>\n",
       "    <tr>\n",
       "      <th>393588</th>\n",
       "      <td>2016-09-30 14:49:00</td>\n",
       "      <td>16.50</td>\n",
       "      <td>16.51</td>\n",
       "      <td>16.50</td>\n",
       "      <td>16.50</td>\n",
       "      <td>16.50</td>\n",
       "      <td>16.5</td>\n",
       "      <td>1001678.0</td>\n",
       "      <td>16.502109</td>\n",
       "    </tr>\n",
       "    <tr>\n",
       "      <th>393593</th>\n",
       "      <td>2016-09-30 14:54:00</td>\n",
       "      <td>16.49</td>\n",
       "      <td>16.50</td>\n",
       "      <td>16.49</td>\n",
       "      <td>16.50</td>\n",
       "      <td>16.49</td>\n",
       "      <td>16.5</td>\n",
       "      <td>526204.0</td>\n",
       "      <td>16.495423</td>\n",
       "    </tr>\n",
       "    <tr>\n",
       "      <th>393569</th>\n",
       "      <td>2016-09-30 14:30:00</td>\n",
       "      <td>16.50</td>\n",
       "      <td>16.50</td>\n",
       "      <td>16.49</td>\n",
       "      <td>16.50</td>\n",
       "      <td>16.50</td>\n",
       "      <td>16.5</td>\n",
       "      <td>1009359.0</td>\n",
       "      <td>16.492794</td>\n",
       "    </tr>\n",
       "  </tbody>\n",
       "</table>\n",
       "</div>"
      ],
      "text/plain": [
       "                       date   open   high    low  close  preClose  preClose2  \\\n",
       "393590  2016-09-30 14:51:00  16.49  16.49  16.49  16.49     16.49       16.5   \n",
       "393597  2016-09-30 14:58:00  16.51  16.51  16.50  16.51     16.51       16.5   \n",
       "393591  2016-09-30 14:52:00  16.49  16.50  16.49  16.49     16.49       16.5   \n",
       "393592  2016-09-30 14:53:00  16.49  16.50  16.49  16.49     16.49       16.5   \n",
       "393572  2016-09-30 14:33:00  16.50  16.50  16.49  16.49     16.50       16.5   \n",
       "393589  2016-09-30 14:50:00  16.50  16.50  16.49  16.49     16.50       16.5   \n",
       "393577  2016-09-30 14:38:00  16.50  16.50  16.49  16.49     16.50       16.5   \n",
       "393574  2016-09-30 14:35:00  16.50  16.50  16.49  16.49     16.50       16.5   \n",
       "393584  2016-09-30 14:45:00  16.51  16.51  16.49  16.51     16.51       16.5   \n",
       "393596  2016-09-30 14:57:00  16.50  16.51  16.50  16.51     16.51       16.5   \n",
       "393581  2016-09-30 14:42:00  16.49  16.50  16.49  16.49     16.50       16.5   \n",
       "393595  2016-09-30 14:56:00  16.50  16.51  16.49  16.51     16.49       16.5   \n",
       "393594  2016-09-30 14:55:00  16.50  16.50  16.49  16.49     16.50       16.5   \n",
       "393582  2016-09-30 14:43:00  16.50  16.50  16.49  16.49     16.49       16.5   \n",
       "393583  2016-09-30 14:44:00  16.49  16.51  16.49  16.51     16.49       16.5   \n",
       "393575  2016-09-30 14:36:00  16.50  16.50  16.49  16.50     16.49       16.5   \n",
       "393571  2016-09-30 14:32:00  16.50  16.50  16.49  16.50     16.50       16.5   \n",
       "393573  2016-09-30 14:34:00  16.50  16.50  16.49  16.50     16.49       16.5   \n",
       "393570  2016-09-30 14:31:00  16.50  16.50  16.49  16.50     16.50       16.5   \n",
       "393576  2016-09-30 14:37:00  16.49  16.50  16.49  16.50     16.50       16.5   \n",
       "393598  2016-09-30 14:59:00  16.50  16.50  16.49  16.50     16.51       16.5   \n",
       "393578  2016-09-30 14:39:00  16.50  16.50  16.49  16.50     16.49       16.5   \n",
       "393579  2016-09-30 14:40:00  16.50  16.50  16.49  16.50     16.50       16.5   \n",
       "393580  2016-09-30 14:41:00  16.49  16.50  16.49  16.50     16.50       16.5   \n",
       "393585  2016-09-30 14:46:00  16.50  16.50  16.49  16.50     16.51       16.5   \n",
       "393586  2016-09-30 14:47:00  16.49  16.51  16.49  16.50     16.50       16.5   \n",
       "393587  2016-09-30 14:48:00  16.49  16.51  16.49  16.50     16.50       16.5   \n",
       "393588  2016-09-30 14:49:00  16.50  16.51  16.50  16.50     16.50       16.5   \n",
       "393593  2016-09-30 14:54:00  16.49  16.50  16.49  16.50     16.49       16.5   \n",
       "393569  2016-09-30 14:30:00  16.50  16.50  16.49  16.50     16.50       16.5   \n",
       "\n",
       "           amount       vwap  \n",
       "393590   544171.0  16.490030  \n",
       "393597   650030.0  16.502412  \n",
       "393591   712406.0  16.490880  \n",
       "393592   907109.0  16.492891  \n",
       "393572  1182001.0  16.492270  \n",
       "393589  1183431.0  16.493812  \n",
       "393577  1193983.0  16.491478  \n",
       "393574  1838911.0  16.490996  \n",
       "393584  2014226.0  16.492475  \n",
       "393596  2069134.0  16.500271  \n",
       "393581  2257779.0  16.492177  \n",
       "393595  2852149.0  16.499572  \n",
       "393594  4382249.0  16.499431  \n",
       "393582  5888398.0  16.496422  \n",
       "393583  5981043.0  16.499429  \n",
       "393575  1378694.0  16.491555  \n",
       "393571   872755.0  16.492592  \n",
       "393573  2402686.0  16.490638  \n",
       "393570   842833.0  16.493796  \n",
       "393576  1530389.0  16.491261  \n",
       "393598  1694413.0  16.498666  \n",
       "393578  2589992.0  16.496764  \n",
       "393579   443716.0  16.495019  \n",
       "393580  1235391.0  16.493872  \n",
       "393585   905462.0  16.492933  \n",
       "393586  1475095.0  16.499944  \n",
       "393587  1795927.0  16.499100  \n",
       "393588  1001678.0  16.502109  \n",
       "393593   526204.0  16.495423  \n",
       "393569  1009359.0  16.492794  "
      ]
     },
     "execution_count": 21,
     "metadata": {},
     "output_type": "execute_result"
    }
   ],
   "source": [
    "# sort valid_data_filter by descending\n",
    "sort_valid_data = valid_data_filter.iloc[S_sort_ids[::-1]]\n",
    "sort_valid_data.tail(30)"
   ]
  },
  {
   "cell_type": "code",
   "execution_count": 97,
   "metadata": {
    "ExecuteTime": {
     "end_time": "2018-01-29T16:33:20.274999Z",
     "start_time": "2018-01-29T16:33:20.262856Z"
    }
   },
   "outputs": [
    {
     "name": "stdout",
     "output_type": "stream",
     "text": [
      "<class 'pandas.core.series.Series'>\n",
      "389348     644094.0\n",
      "389340    3692819.0\n",
      "389364    4468363.0\n",
      "Name: amount, dtype: float64\n"
     ]
    },
    {
     "data": {
      "text/plain": [
       "[2, 2]"
      ]
     },
     "execution_count": 97,
     "metadata": {},
     "output_type": "execute_result"
    }
   ],
   "source": [
    "amount_cumsum = sort_valid_data['amount'].cumsum()\n",
    "print type(amount_cumsum)\n",
    "print amount_cumsum[:3]"
   ]
  },
  {
   "cell_type": "code",
   "execution_count": 19,
   "metadata": {
    "ExecuteTime": {
     "end_time": "2018-01-30T02:29:16.701032Z",
     "start_time": "2018-01-30T02:29:15.774103Z"
    }
   },
   "outputs": [
    {
     "data": {
      "text/plain": [
       "<matplotlib.figure.Figure at 0x11ef46fd0>"
      ]
     },
     "metadata": {},
     "output_type": "display_data"
    },
    {
     "data": {
      "image/png": "[encoded data removed]",
      "text/plain": [
       "<matplotlib.figure.Figure at 0x110a5cb50>"
      ]
     },
     "metadata": {},
     "output_type": "display_data"
    },
    {
     "data": {
      "text/plain": [
       "<matplotlib.figure.Figure at 0x11f1c5290>"
      ]
     },
     "metadata": {},
     "output_type": "display_data"
    },
    {
     "data": {
      "image/png": "[encoded data removed]",
      "text/plain": [
       "<matplotlib.figure.Figure at 0x11f1aca50>"
      ]
     },
     "metadata": {},
     "output_type": "display_data"
    }
   ],
   "source": [
    "import matplotlib.pyplot as plt\n",
    "fig = plt.figure()\n",
    "show_valid_data = pd.DataFrame(sort_valid_data['amount'].values, columns = ['amount'], index = sort_valid_data['date'])\n",
    "\n",
    "# ax = sort_valid_data[['amount']].unstack('date').plot(kind='bar', use_index=True)\n",
    "ax = show_valid_data.plot(kind='bar')\n",
    "ax2 = ax.twinx()\n",
    "ax2.scatter(ax.get_xticks(), S_arr, marker='o', c='red', s=10)\n",
    "ax2.set_ylim((np.min(S_arr)-np.min(S_arr)*0.1, np.max(S_arr)+np.max(S_arr)*0.1))\n",
    "ax.grid(True)\n",
    "ax2.grid(True)\n",
    "\n",
    "fig = plt.figure()\n",
    "ax = show_valid_data.plot(kind='bar')\n",
    "ax2 = ax.twinx()\n",
    "amount_cumsum = sort_valid_data['amount'].cumsum()\n",
    "all_amount_cumsum = amount_cumsum.values[-1]\n",
    "ax2.plot(ax.get_xticks(), amount_cumsum.values/all_amount_cumsum*100, c = 'g')\n",
    "\n",
    "# ax4 = ax3.twinx()\n",
    "trade_cum_ratio = 0.2\n",
    "ax2.plot(ax2.get_xticks(), [trade_cum_ratio*100]*len(ax.get_xticks()), c = 'y')\n",
    "x_ids = np.where((amount_cumsum.values/all_amount_cumsum) <= trade_cum_ratio)[0]\n",
    "ax2.plot([ax2.get_xticks()[x_ids[-1]]]*2, [0,100], 'm--')\n",
    "ax.grid(True)\n",
    "ax2.grid(True)\n",
    "plt.show()"
   ]
  },
  {
   "cell_type": "code",
   "execution_count": 18,
   "metadata": {
    "ExecuteTime": {
     "end_time": "2018-01-30T02:25:36.392834Z",
     "start_time": "2018-01-30T02:25:36.377040Z"
    }
   },
   "outputs": [
    {
     "name": "stdout",
     "output_type": "stream",
     "text": [
      "VWAP_smart: 16.4926510458 , VWAP_all: 16.4959569769\n",
      "Q: 0.999799591437\n"
     ]
    }
   ],
   "source": [
    "#成交量的累积占比\n",
    "trade_cum_ratio = 0.2\n",
    "amount_cumsum = sort_valid_data['amount'].cumsum()\n",
    "all_amount_cumsum = amount_cumsum.values[-1]\n",
    "smart_ids = np.where((amount_cumsum.values/all_amount_cumsum) <= trade_cum_ratio)[0]\n",
    "\n",
    "# 聪明钱的情绪因子Q\n",
    "# Q = VWAP_smart/VWAP_all\n",
    "trade_mon = sort_valid_data['amount'].values * sort_valid_data['vwap'].values\n",
    "VWAP_smart = np.sum(trade_mon[smart_ids])/np.sum(sort_valid_data['amount'].values[smart_ids])\n",
    "VWAP_all = np.sum(trade_mon)/np.sum(sort_valid_data['amount'].values)\n",
    "Q = VWAP_smart/VWAP_all\n",
    "print \"VWAP_smart:\", VWAP_smart, \", VWAP_all:\", VWAP_all\n",
    "print \"Q:\", Q"
   ]
  },
  {
   "cell_type": "code",
   "execution_count": null,
   "metadata": {
    "collapsed": true
   },
   "outputs": [],
   "source": []
  }
 ],
 "metadata": {
  "kernelspec": {
   "display_name": "Python 2",
   "language": "python",
   "name": "python2"
  },
  "language_info": {
   "codemirror_mode": {
    "name": "ipython",
    "version": 2
   },
   "file_extension": ".py",
   "mimetype": "text/x-python",
   "name": "python",
   "nbconvert_exporter": "python",
   "pygments_lexer": "ipython2",
   "version": "2.7.13"
  }
 },
 "nbformat": 4,
 "nbformat_minor": 2
}
